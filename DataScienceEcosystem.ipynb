{
  "metadata": {
    "kernelspec": {
      "name": "python",
      "display_name": "Python (Pyodide)",
      "language": "python"
    },
    "language_info": {
      "codemirror_mode": {
        "name": "python",
        "version": 3
      },
      "file_extension": ".py",
      "mimetype": "text/x-python",
      "name": "python",
      "nbconvert_exporter": "python",
      "pygments_lexer": "ipython3",
      "version": "3.8"
    }
  },
  "nbformat_minor": 4,
  "nbformat": 4,
  "cells": [
    {
      "cell_type": "markdown",
      "source": "# Data Science Tools and Ecosystem",
      "metadata": {}
    },
    {
      "cell_type": "markdown",
      "source": "In this notebook, Data Science Tools and Ecosystem are summarized.",
      "metadata": {}
    },
    {
      "cell_type": "markdown",
      "source": "Some of the popular languages that Data Scientists use are:",
      "metadata": {}
    },
    {
      "cell_type": "code",
      "source": "data_science_languages = [\"R\", \"Python\", \"SQL\"]\n\nprint(\"Commonly Used Languages for Data Science:\")\nfor i, language in enumerate(data_science_languages, start=1):\n    print(f\"{i}. {language}\")\n",
      "metadata": {
        "trusted": true
      },
      "outputs": [
        {
          "name": "stdout",
          "text": "Commonly Used Languages for Data Science:\n1. R\n2. Python\n3. SQL\n",
          "output_type": "stream"
        }
      ],
      "execution_count": 4
    },
    {
      "cell_type": "markdown",
      "source": "Some of the commonly used libraries used by Data Scientists include:",
      "metadata": {}
    },
    {
      "cell_type": "code",
      "source": "data_science_libraries = [\"NumPy\", \"Matplotlib\", \"Pandas\"]\n\nprint(\"Commonly Used Libraries for Data Science:\")\nfor i, language in enumerate(data_science_libraries, start=1):\n        print(f\"{i}. {language}\")",
      "metadata": {
        "trusted": true
      },
      "outputs": [
        {
          "name": "stdout",
          "text": "Commonly Used Libraries for Data Science:\n1. NumPy\n2. Matplotlib\n3. Pandas\n",
          "output_type": "stream"
        }
      ],
      "execution_count": 6
    },
    {
      "cell_type": "code",
      "source": "import pandas as pd\n\ndata = {\"Data Science Tools\": [\"Jupyter Notebook\", \"RStudio\", \"Apache Zeppelin\"]}\n\ndf = pd.DataFrame(data)\n\ndf\n",
      "metadata": {
        "trusted": true
      },
      "outputs": [
        {
          "execution_count": 10,
          "output_type": "execute_result",
          "data": {
            "text/plain": "  Data Science Tools\n0   Jupyter Notebook\n1            RStudio\n2    Apache Zeppelin",
            "text/html": "<div>\n<style scoped>\n    .dataframe tbody tr th:only-of-type {\n        vertical-align: middle;\n    }\n\n    .dataframe tbody tr th {\n        vertical-align: top;\n    }\n\n    .dataframe thead th {\n        text-align: right;\n    }\n</style>\n<table border=\"1\" class=\"dataframe\">\n  <thead>\n    <tr style=\"text-align: right;\">\n      <th></th>\n      <th>Data Science Tools</th>\n    </tr>\n  </thead>\n  <tbody>\n    <tr>\n      <th>0</th>\n      <td>Jupyter Notebook</td>\n    </tr>\n    <tr>\n      <th>1</th>\n      <td>RStudio</td>\n    </tr>\n    <tr>\n      <th>2</th>\n      <td>Apache Zeppelin</td>\n    </tr>\n  </tbody>\n</table>\n</div>"
          },
          "metadata": {}
        }
      ],
      "execution_count": 10
    },
    {
      "cell_type": "markdown",
      "source": "### Below are a few examples of evalutating arithmetic expressions in Python.",
      "metadata": {}
    },
    {
      "cell_type": "code",
      "source": "# This a simple arithmetic expression to mutiply then add integers\n(3*4)+5",
      "metadata": {
        "trusted": true
      },
      "outputs": [
        {
          "execution_count": 13,
          "output_type": "execute_result",
          "data": {
            "text/plain": "17"
          },
          "metadata": {}
        }
      ],
      "execution_count": 13
    },
    {
      "cell_type": "code",
      "source": "# This will convert 200 minutes to hours by diving by 60\n200/60",
      "metadata": {
        "trusted": true
      },
      "outputs": [
        {
          "execution_count": 14,
          "output_type": "execute_result",
          "data": {
            "text/plain": "3.3333333333333335"
          },
          "metadata": {}
        }
      ],
      "execution_count": 14
    },
    {
      "cell_type": "markdown",
      "source": "**Objectives:**\n\n- Understand basic functions and purpose of RStudio and GitHub\n- Learn how to use Jupyter Notebook\n- Get familiar with common data science languages like R, Python and SQL\n",
      "metadata": {}
    },
    {
      "cell_type": "markdown",
      "source": "## Author\nJoshua Bell",
      "metadata": {}
    }
  ]
}